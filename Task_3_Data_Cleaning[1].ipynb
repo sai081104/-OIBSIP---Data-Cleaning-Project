
{
 "cells": [
  {
   "cell_type": "markdown",
   "metadata": {},
   "source": [
    "# Task 3: Data Cleaning Project\n",
    "Cleaning NYC Airbnb and YouTube Trending Datasets"
   ]
  },
  {
   "cell_type": "code",
   "execution_count": null,
   "metadata": {},
   "outputs": [],
   "source": [
    "import pandas as pd\n",
    "import matplotlib.pyplot as plt\n",
    "import seaborn as sns\n",
    "import numpy as np"
   ]
  },
  {
   "cell_type": "markdown",
   "metadata": {},
   "source": [
    "## Load Airbnb Dataset"
   ]
  },
  {
   "cell_type": "code",
   "execution_count": null,
   "metadata": {},
   "outputs": [],
   "source": [
    "airbnb = pd.read_csv('AB_NYC_2019.csv')\n",
    "airbnb.head()"
   ]
  },
  {
   "cell_type": "markdown",
   "metadata": {},
   "source": [
    "## Clean Airbnb Data"
   ]
  },
  {
   "cell_type": "code",
   "execution_count": null,
   "metadata": {},
   "outputs": [],
   "source": [
    "airbnb.dropna(inplace=True)\n",
    "airbnb.drop_duplicates(inplace=True)\n",
    "airbnb.columns = airbnb.columns.str.lower().str.replace(' ', '_')\n",
    "airbnb = airbnb[airbnb['price'] < 500]  # Remove outliers\n",
    "sns.boxplot(x=airbnb['price'])\n",
    "plt.title('Airbnb Price Distribution')\n",
    "plt.savefig('airbnb_price_boxplot.png')\n",
    "plt.show()"
   ]
  },
  {
   "cell_type": "markdown",
   "metadata": {},
   "source": [
    "## Load YouTube Data"
   ]
  },
  {
   "cell_type": "code",
   "execution_count": null,
   "metadata": {},
   "outputs": [],
   "source": [
    "youtube = pd.read_csv('USvideos.csv')\n",
    "youtube.head()"
   ]
  },
  {
   "cell_type": "markdown",
   "metadata": {},
   "source": [
    "## Clean YouTube Data"
   ]
  },
  {
   "cell_type": "code",
   "execution_count": null,
   "metadata": {},
   "outputs": [],
   "source": [
    "youtube.dropna(inplace=True)\n",
    "youtube.drop_duplicates(inplace=True)\n",
    "youtube.columns = youtube.columns.str.lower().str.replace(' ', '_')\n",
    "youtube = youtube[youtube['views'] < youtube['views'].quantile(0.95)]  # Remove top 5% outliers\n",
    "sns.boxplot(x=youtube['views'])\n",
    "plt.title('YouTube Views Distribution')\n",
    "plt.savefig('youtube_views_boxplot.png')\n",
    "plt.show()"
   ]
  }
 ],
 "metadata": {
  "kernelspec": {
   "display_name": "Python 3",
   "language": "python",
   "name": "python3"
  },
  "language_info": {
   "name": "python",
   "version": ""
  }
 },
 "nbformat": 4,
 "nbformat_minor": 2
}
